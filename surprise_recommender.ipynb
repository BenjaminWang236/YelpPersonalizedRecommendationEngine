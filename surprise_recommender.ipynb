{
 "cells": [
  {
   "cell_type": "markdown",
   "metadata": {},
   "source": [
    "# COEN 241 Yelp Recommender System\n",
    "\n",
    "Using Scikit.Surprise Python Recommender System Library"
   ]
  },
  {
   "cell_type": "code",
   "execution_count": 1,
   "metadata": {},
   "outputs": [],
   "source": [
    "import surprise\n",
    "from surprise import Dataset, Reader, SVD, KNNWithMeans, KNNBaseline, accuracy, SVDpp, SlopeOne, NMF, NormalPredictor, KNNBasic, KNNWithZScore, BaselineOnly, CoClustering\n",
    "from surprise.model_selection import cross_validate, train_test_split, GridSearchCV\n",
    "import pandas as pd\n",
    "import pprint as pp"
   ]
  },
  {
   "cell_type": "code",
   "execution_count": 2,
   "metadata": {},
   "outputs": [],
   "source": [
    "# Import the dataset & prepare it\n",
    "\n",
    "file_path = 'yelp_reviews.csv'\n",
    "reader = Reader(line_format='user item rating', sep=',', skip_lines=1, rating_scale=(1, 5))\n",
    "data = Dataset.load_from_file(file_path=file_path, reader=reader)\n",
    "\n",
    "trainset, testset = train_test_split(data, test_size=.25)"
   ]
  },
  {
   "cell_type": "code",
   "execution_count": 3,
   "metadata": {},
   "outputs": [],
   "source": [
    "algo = SVD()\n",
    "\n",
    "algo.fit(trainset)\n",
    "predictions = algo.test(testset)"
   ]
  },
  {
   "cell_type": "code",
   "execution_count": 4,
   "metadata": {},
   "outputs": [
    {
     "name": "stdout",
     "output_type": "stream",
     "text": [
      "RMSE: 1.2880\n"
     ]
    },
    {
     "data": {
      "text/plain": [
       "1.2880144812801735"
      ]
     },
     "execution_count": 4,
     "metadata": {},
     "output_type": "execute_result"
    }
   ],
   "source": [
    "accuracy.rmse(predictions)"
   ]
  },
  {
   "cell_type": "code",
   "execution_count": 4,
   "metadata": {},
   "outputs": [],
   "source": [
    "param_grid = {'n_epochs': [5, 10], 'lr_all': [0.002, 0.005], 'reg_all': [0.4, 0.6]}\n",
    "\n",
    "gs = GridSearchCV(SVD, param_grid, n_jobs=6, measures=['rmse', 'mae'], cv=2)\n",
    "gs.fit(data)"
   ]
  },
  {
   "cell_type": "code",
   "execution_count": 5,
   "metadata": {},
   "outputs": [
    {
     "name": "stdout",
     "output_type": "stream",
     "text": [
      "1.3230490586612695\n",
      "1.0969245181091778\n",
      "{'n_epochs': 10, 'lr_all': 0.005, 'reg_all': 0.4}\n",
      "{'n_epochs': 10, 'lr_all': 0.005, 'reg_all': 0.4}\n",
      "<surprise.prediction_algorithms.matrix_factorization.SVD object at 0x0000017F840FA7C0>\n",
      "<surprise.prediction_algorithms.matrix_factorization.SVD object at 0x0000017F840FAC10>\n",
      "   split0_test_rmse  split1_test_rmse  mean_test_rmse  std_test_rmse  \\\n",
      "0          1.385253          1.386163        1.385708       0.000455   \n",
      "1          1.388404          1.389312        1.388858       0.000454   \n",
      "2          1.347388          1.348346        1.347867       0.000479   \n",
      "3          1.352663          1.353605        1.353134       0.000471   \n",
      "4          1.356911          1.357747        1.357329       0.000418   \n",
      "5          1.361742          1.362538        1.362140       0.000398   \n",
      "6          1.322608          1.323490        1.323049       0.000441   \n",
      "7          1.329482          1.330438        1.329960       0.000478   \n",
      "\n",
      "   rank_test_rmse  split0_test_mae  split1_test_mae  mean_test_mae  \\\n",
      "0               7         1.157065         1.158145       1.157605   \n",
      "1               8         1.161852         1.162928       1.162390   \n",
      "2               3         1.121150         1.122372       1.121761   \n",
      "3               4         1.129088         1.130290       1.129689   \n",
      "4               5         1.130058         1.131138       1.130598   \n",
      "5               6         1.137163         1.138221       1.137692   \n",
      "6               1         1.096347         1.097502       1.096925   \n",
      "7               2         1.106843         1.108043       1.107443   \n",
      "\n",
      "   std_test_mae  rank_test_mae  mean_fit_time  std_fit_time  mean_test_time  \\\n",
      "0      0.000540              7      44.152501      0.337501       27.395000   \n",
      "1      0.000538              8      45.068001      0.484000       28.561500   \n",
      "2      0.000611              3      45.394998      0.050004       29.737497   \n",
      "3      0.000601              4      47.221991      0.256002       26.412001   \n",
      "4      0.000540              5      88.497495      0.371502       25.563502   \n",
      "5      0.000529              6      86.386496      0.522496       26.715500   \n",
      "6      0.000577              1      84.437495      1.047502       24.790918   \n",
      "7      0.000600              2      78.050413      0.687002       22.847999   \n",
      "\n",
      "   std_test_time                                             params  \\\n",
      "0       0.056000   {'n_epochs': 5, 'lr_all': 0.002, 'reg_all': 0.4}   \n",
      "1       0.443500   {'n_epochs': 5, 'lr_all': 0.002, 'reg_all': 0.6}   \n",
      "2       0.153503   {'n_epochs': 5, 'lr_all': 0.005, 'reg_all': 0.4}   \n",
      "3       0.151998   {'n_epochs': 5, 'lr_all': 0.005, 'reg_all': 0.6}   \n",
      "4       0.141502  {'n_epochs': 10, 'lr_all': 0.002, 'reg_all': 0.4}   \n",
      "5       0.322501  {'n_epochs': 10, 'lr_all': 0.002, 'reg_all': 0.6}   \n",
      "6       0.180498  {'n_epochs': 10, 'lr_all': 0.005, 'reg_all': 0.4}   \n",
      "7       0.258999  {'n_epochs': 10, 'lr_all': 0.005, 'reg_all': 0.6}   \n",
      "\n",
      "   param_n_epochs  param_lr_all  param_reg_all  \n",
      "0               5         0.002            0.4  \n",
      "1               5         0.002            0.6  \n",
      "2               5         0.005            0.4  \n",
      "3               5         0.005            0.6  \n",
      "4              10         0.002            0.4  \n",
      "5              10         0.002            0.6  \n",
      "6              10         0.005            0.4  \n",
      "7              10         0.005            0.6  \n"
     ]
    }
   ],
   "source": [
    "# best RMSE score\n",
    "print(gs.best_score['rmse'])\n",
    "print(gs.best_score['mae'])\n",
    "\n",
    "# combination of parameters that gave the best RMSE score\n",
    "print(gs.best_params['rmse'])\n",
    "print(gs.best_params['mae'])\n",
    "\n",
    "print(gs.best_estimator['rmse'])\n",
    "print(gs.best_estimator['mae'])\n",
    "\n",
    "results_df = pd.DataFrame.from_dict(gs.cv_results)\n",
    "print(results_df)"
   ]
  },
  {
   "cell_type": "code",
   "execution_count": 14,
   "metadata": {},
   "outputs": [
    {
     "name": "stdout",
     "output_type": "stream",
     "text": [
      "Evaluating RMSE, MAE of algorithm SVD on 5 split(s).\n",
      "\n",
      "                  Fold 1  Fold 2  Fold 3  Fold 4  Fold 5  Mean    Std     \n",
      "RMSE (testset)    1.2847  1.2847  1.2858  1.2855  1.2858  1.2853  0.0005  \n",
      "MAE (testset)     1.0298  1.0297  1.0306  1.0305  1.0302  1.0302  0.0004  \n",
      "Fit time          267.01  265.74  265.28  264.69  263.86  265.32  1.05    \n",
      "Test time         12.45   11.88   11.92   11.96   7.87    11.22   1.69    \n",
      "1.285315539707498\n"
     ]
    }
   ],
   "source": [
    "results = cross_validate(algo=algo, data=data, measures=['RMSE', 'MAE'], n_jobs=6, cv=5, verbose=True)\n",
    "print(results['test_rmse'].mean())"
   ]
  },
  {
   "cell_type": "code",
   "execution_count": 4,
   "metadata": {},
   "outputs": [],
   "source": [
    "algo_progress_dir = '.\\\\algo_checkpoints\\\\'"
   ]
  },
  {
   "cell_type": "code",
   "execution_count": 5,
   "metadata": {},
   "outputs": [
    {
     "name": "stdout",
     "output_type": "stream",
     "text": [
      "Algorithm 0:\tSVD\n",
      "\tAlready done, skipping\n",
      "Algorithm 1:\tSVDpp\n",
      "\tAlready done, skipping\n",
      "Algorithm 2:\tNMF\n",
      "\tAlready done, skipping\n",
      "Algorithm 3:\tNormalPredictor\n",
      "\tAlready done, skipping\n",
      "Algorithm 4:\tBaselineOnly\n",
      "\tAlready done, skipping\n",
      "Algorithm 5:\tCoClustering\n",
      "\tAlready done, skipping\n"
     ]
    }
   ],
   "source": [
    "# SlopeOne()  # Requires \"MemoryError: Unable to allocate 167. GiB for an array with shape (149655, 149655) and data type float64\", unable to run on my computer\n",
    "# KNNBaseline()   # Requires \"MemoryError: Unable to allocate 12.5 TiB for an array with shape (1312387, 1312387) and data type float64\", unable to run on my computer\n",
    "# KNNBasic()  # MemoryError: Unable to allocate 12.5 TiB for an array with shape (1311208, 1311208) and data type float64\n",
    "# KNNWithMeans()  # MemoryError: Unable to allocate 12.5 TiB for an array with shape (1311850, 1311850) and data type float64\n",
    "# KNNWithZScore() # MemoryError: Unable to allocate 12.5 TiB for an array with shape (1311609, 1311609) and data type float64\n",
    "\n",
    "# Iterate over all algorithms\n",
    "benchmark = []\n",
    "algo_done = 6\n",
    "for algo_index, algorithm in enumerate([SVD(), SVDpp(), NMF(), NormalPredictor(), BaselineOnly(), CoClustering()]):\n",
    "    print(f\"Algorithm {algo_index}:\\t{algorithm.__class__.__name__}\")\n",
    "    if (algo_index < algo_done):\n",
    "        print(\"\\tAlready done, skipping\")\n",
    "        tmp = pd.read_csv(f\"{algo_progress_dir}algo_{algo_index}_{algorithm.__class__.__name__}.csv\")\n",
    "        benchmark.append(tmp)\n",
    "        continue\n",
    "    # Perform cross validation\n",
    "    results = cross_validate(algorithm, data, measures=['RMSE'], cv=5, n_jobs=3, pre_dispatch='n_jobs', verbose=True)\n",
    "    \n",
    "    # Get results & append algorithm name\n",
    "    tmp = pd.DataFrame.from_dict(results).mean(axis=0)\n",
    "    tmp = tmp.append(pd.Series([str(algorithm).split(' ')[0].split('.')[-1]], index=['Algorithm']))\n",
    "    pd.DataFrame.to_csv(tmp, f\"{algo_progress_dir}algo_{algo_index}_{str(algorithm.__class__.__name__)}.csv\")\n",
    "    benchmark.append(tmp)\n",
    "    \n",
    "    algo_done += 1\n",
    "    print(f\"algo_done: {algo_done}\\n\")\n",
    "    \n",
    "# aggregate_result = pd.DataFrame(benchmark).set_index('Algorithm').sort_values('test_rmse')    "
   ]
  },
  {
   "cell_type": "code",
   "execution_count": 25,
   "metadata": {},
   "outputs": [
    {
     "name": "stdout",
     "output_type": "stream",
     "text": [
      "        Algorithms           test_rmse            fit_time           test_time\n",
      "0              SVD  1.3025332424607239  141.97499787807465   22.80950176715851\n",
      "1            SVDpp  1.3101656108009496   993.4315007925034   77.74049925804138\n",
      "2              NMF  1.4911652176123789  218.62451767921448   20.68850016593933\n",
      "3  NormalPredictor  1.9015793378418226   2.453497886657715  19.583502888679504\n",
      "4     BaselineOnly  1.3044595390621168  3.8379987478256226   18.20549964904785\n",
      "5     CoClustering   1.437949887236462  113.82850813865662  17.987001180648804\n"
     ]
    }
   ],
   "source": [
    "cols = ['Algorithms', 'test_rmse', 'fit_time', 'test_time']\n",
    "df = pd.DataFrame(columns=cols)\n",
    "for row in benchmark:\n",
    "    row = row.to_dict()['0']\n",
    "    df = pd.concat([df, pd.DataFrame([[row[3], row[0], row[1], row[2]]], columns=cols)], ignore_index=True)\n",
    "print(df)\n",
    "pd.DataFrame.to_csv(df, f\"{algo_progress_dir}benchmark.csv\")"
   ]
  },
  {
   "cell_type": "code",
   "execution_count": 5,
   "metadata": {},
   "outputs": [],
   "source": [
    "# param_grid = {'bsl_options':[{'method': 'als'}, {'method': 'sgd'}]}\n",
    "param_grid = {\n",
    "    'bsl_options': \n",
    "        {\n",
    "            'method': ['als', 'sgd'],\n",
    "            'reg': [0.02, 0.5, 1, 2], \n",
    "            'learning_rate': [0.001, 0.005, 0.01], \n",
    "            'n_epochs': [5, 10, 20]\n",
    "        }\n",
    "    }\n",
    "\n",
    "gs = GridSearchCV(BaselineOnly, param_grid, n_jobs=4, measures=['rmse', 'mae'], cv=3)\n",
    "gs.fit(data)"
   ]
  },
  {
   "cell_type": "code",
   "execution_count": 6,
   "metadata": {},
   "outputs": [
    {
     "name": "stdout",
     "output_type": "stream",
     "text": [
      "1.2750307867761717\n",
      "1.0085386976123376\n",
      "{'bsl_options': {'method': 'sgd', 'reg': 0.02, 'learning_rate': 0.01, 'n_epochs': 20}}\n",
      "{'bsl_options': {'method': 'sgd', 'reg': 0.02, 'learning_rate': 0.01, 'n_epochs': 20}}\n"
     ]
    }
   ],
   "source": [
    "# best RMSE score\n",
    "print(gs.best_score['rmse'])\n",
    "print(gs.best_score['mae'])\n",
    "\n",
    "# combination of parameters that gave the best RMSE score\n",
    "print(gs.best_params['rmse'])\n",
    "print(gs.best_params['mae'])\n",
    "\n",
    "# print(gs.best_estimator['rmse'])\n",
    "# print(gs.best_estimator['mae'])\n",
    "\n",
    "# results_df = pd.DataFrame.from_dict(gs.cv_results)\n",
    "# print(results_df)"
   ]
  }
 ],
 "metadata": {
  "interpreter": {
   "hash": "ad2bdc8ecc057115af97d19610ffacc2b4e99fae6737bb82f5d7fb13d2f2c186"
  },
  "kernelspec": {
   "display_name": "Python 3.8.12 ('base')",
   "language": "python",
   "name": "python3"
  },
  "language_info": {
   "codemirror_mode": {
    "name": "ipython",
    "version": 3
   },
   "file_extension": ".py",
   "mimetype": "text/x-python",
   "name": "python",
   "nbconvert_exporter": "python",
   "pygments_lexer": "ipython3",
   "version": "3.8.13"
  },
  "orig_nbformat": 4
 },
 "nbformat": 4,
 "nbformat_minor": 2
}
